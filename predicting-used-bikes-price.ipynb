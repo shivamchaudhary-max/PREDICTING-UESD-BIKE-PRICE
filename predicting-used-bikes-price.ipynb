{
 "cells": [
  {
   "cell_type": "code",
   "execution_count": 1,
   "id": "6b3e43d4",
   "metadata": {
    "execution": {
     "iopub.execute_input": "2022-01-29T15:43:54.929832Z",
     "iopub.status.busy": "2022-01-29T15:43:54.929128Z",
     "iopub.status.idle": "2022-01-29T15:43:55.933026Z",
     "shell.execute_reply": "2022-01-29T15:43:55.932257Z",
     "shell.execute_reply.started": "2021-10-29T14:19:16.916600Z"
    },
    "papermill": {
     "duration": 1.043664,
     "end_time": "2022-01-29T15:43:55.933208",
     "exception": false,
     "start_time": "2022-01-29T15:43:54.889544",
     "status": "completed"
    },
    "tags": []
   },
   "outputs": [],
   "source": [
    "import pandas as pd\n",
    "import numpy as np\n",
    "import matplotlib.pyplot as plt\n",
    "import seaborn as sns"
   ]
  },
  {
   "cell_type": "code",
   "execution_count": 2,
   "id": "e0160408",
   "metadata": {
    "execution": {
     "iopub.execute_input": "2022-01-29T15:43:55.995329Z",
     "iopub.status.busy": "2022-01-29T15:43:55.994703Z",
     "iopub.status.idle": "2022-01-29T15:43:56.084306Z",
     "shell.execute_reply": "2022-01-29T15:43:56.084898Z",
     "shell.execute_reply.started": "2021-10-29T14:19:17.845173Z"
    },
    "papermill": {
     "duration": 0.122552,
     "end_time": "2022-01-29T15:43:56.085113",
     "exception": false,
     "start_time": "2022-01-29T15:43:55.962561",
     "status": "completed"
    },
    "tags": []
   },
   "outputs": [],
   "source": [
    "bikedata=pd.read_csv('../input/used-bikes/Used_Bikes.csv')"
   ]
  },
  {
   "cell_type": "code",
   "execution_count": 3,
   "id": "b003dbed",
   "metadata": {
    "execution": {
     "iopub.execute_input": "2022-01-29T15:43:56.166228Z",
     "iopub.status.busy": "2022-01-29T15:43:56.165555Z",
     "iopub.status.idle": "2022-01-29T15:43:56.185276Z",
     "shell.execute_reply": "2022-01-29T15:43:56.185997Z",
     "shell.execute_reply.started": "2021-10-29T14:19:17.956366Z"
    },
    "papermill": {
     "duration": 0.07273,
     "end_time": "2022-01-29T15:43:56.186200",
     "exception": false,
     "start_time": "2022-01-29T15:43:56.113470",
     "status": "completed"
    },
    "tags": []
   },
   "outputs": [
    {
     "name": "stdout",
     "output_type": "stream",
     "text": [
      "<class 'pandas.core.frame.DataFrame'>\n",
      "RangeIndex: 32648 entries, 0 to 32647\n",
      "Data columns (total 8 columns):\n",
      " #   Column      Non-Null Count  Dtype  \n",
      "---  ------      --------------  -----  \n",
      " 0   bike_name   32648 non-null  object \n",
      " 1   price       32648 non-null  float64\n",
      " 2   city        32648 non-null  object \n",
      " 3   kms_driven  32648 non-null  float64\n",
      " 4   owner       32648 non-null  object \n",
      " 5   age         32648 non-null  float64\n",
      " 6   power       32648 non-null  float64\n",
      " 7   brand       32648 non-null  object \n",
      "dtypes: float64(4), object(4)\n",
      "memory usage: 2.0+ MB\n"
     ]
    }
   ],
   "source": [
    "bikedata.info()"
   ]
  },
  {
   "cell_type": "code",
   "execution_count": 4,
   "id": "c555b967",
   "metadata": {
    "execution": {
     "iopub.execute_input": "2022-01-29T15:43:56.248547Z",
     "iopub.status.busy": "2022-01-29T15:43:56.247594Z",
     "iopub.status.idle": "2022-01-29T15:43:56.284412Z",
     "shell.execute_reply": "2022-01-29T15:43:56.284934Z",
     "shell.execute_reply.started": "2021-10-29T14:19:18.001527Z"
    },
    "papermill": {
     "duration": 0.069251,
     "end_time": "2022-01-29T15:43:56.285109",
     "exception": false,
     "start_time": "2022-01-29T15:43:56.215858",
     "status": "completed"
    },
    "tags": []
   },
   "outputs": [
    {
     "data": {
      "text/html": [
       "<div>\n",
       "<style scoped>\n",
       "    .dataframe tbody tr th:only-of-type {\n",
       "        vertical-align: middle;\n",
       "    }\n",
       "\n",
       "    .dataframe tbody tr th {\n",
       "        vertical-align: top;\n",
       "    }\n",
       "\n",
       "    .dataframe thead th {\n",
       "        text-align: right;\n",
       "    }\n",
       "</style>\n",
       "<table border=\"1\" class=\"dataframe\">\n",
       "  <thead>\n",
       "    <tr style=\"text-align: right;\">\n",
       "      <th></th>\n",
       "      <th>price</th>\n",
       "      <th>kms_driven</th>\n",
       "      <th>age</th>\n",
       "      <th>power</th>\n",
       "    </tr>\n",
       "  </thead>\n",
       "  <tbody>\n",
       "    <tr>\n",
       "      <th>count</th>\n",
       "      <td>3.264800e+04</td>\n",
       "      <td>32648.000000</td>\n",
       "      <td>32648.000000</td>\n",
       "      <td>32648.000000</td>\n",
       "    </tr>\n",
       "    <tr>\n",
       "      <th>mean</th>\n",
       "      <td>6.829542e+04</td>\n",
       "      <td>26344.625184</td>\n",
       "      <td>8.048211</td>\n",
       "      <td>213.511302</td>\n",
       "    </tr>\n",
       "    <tr>\n",
       "      <th>std</th>\n",
       "      <td>9.071860e+04</td>\n",
       "      <td>22208.527695</td>\n",
       "      <td>4.031700</td>\n",
       "      <td>134.428868</td>\n",
       "    </tr>\n",
       "    <tr>\n",
       "      <th>min</th>\n",
       "      <td>4.400000e+03</td>\n",
       "      <td>1.000000</td>\n",
       "      <td>1.000000</td>\n",
       "      <td>100.000000</td>\n",
       "    </tr>\n",
       "    <tr>\n",
       "      <th>25%</th>\n",
       "      <td>2.500000e+04</td>\n",
       "      <td>12000.000000</td>\n",
       "      <td>5.000000</td>\n",
       "      <td>150.000000</td>\n",
       "    </tr>\n",
       "    <tr>\n",
       "      <th>50%</th>\n",
       "      <td>4.300000e+04</td>\n",
       "      <td>20373.000000</td>\n",
       "      <td>7.000000</td>\n",
       "      <td>150.000000</td>\n",
       "    </tr>\n",
       "    <tr>\n",
       "      <th>75%</th>\n",
       "      <td>8.000000e+04</td>\n",
       "      <td>35000.000000</td>\n",
       "      <td>10.000000</td>\n",
       "      <td>220.000000</td>\n",
       "    </tr>\n",
       "    <tr>\n",
       "      <th>max</th>\n",
       "      <td>1.900000e+06</td>\n",
       "      <td>750000.000000</td>\n",
       "      <td>63.000000</td>\n",
       "      <td>1800.000000</td>\n",
       "    </tr>\n",
       "  </tbody>\n",
       "</table>\n",
       "</div>"
      ],
      "text/plain": [
       "              price     kms_driven           age         power\n",
       "count  3.264800e+04   32648.000000  32648.000000  32648.000000\n",
       "mean   6.829542e+04   26344.625184      8.048211    213.511302\n",
       "std    9.071860e+04   22208.527695      4.031700    134.428868\n",
       "min    4.400000e+03       1.000000      1.000000    100.000000\n",
       "25%    2.500000e+04   12000.000000      5.000000    150.000000\n",
       "50%    4.300000e+04   20373.000000      7.000000    150.000000\n",
       "75%    8.000000e+04   35000.000000     10.000000    220.000000\n",
       "max    1.900000e+06  750000.000000     63.000000   1800.000000"
      ]
     },
     "execution_count": 4,
     "metadata": {},
     "output_type": "execute_result"
    }
   ],
   "source": [
    "bikedata.describe()"
   ]
  },
  {
   "cell_type": "code",
   "execution_count": 5,
   "id": "3cf9779b",
   "metadata": {
    "execution": {
     "iopub.execute_input": "2022-01-29T15:43:56.347806Z",
     "iopub.status.busy": "2022-01-29T15:43:56.346872Z",
     "iopub.status.idle": "2022-01-29T15:43:56.362023Z",
     "shell.execute_reply": "2022-01-29T15:43:56.362499Z",
     "shell.execute_reply.started": "2021-10-29T14:19:18.039636Z"
    },
    "papermill": {
     "duration": 0.048139,
     "end_time": "2022-01-29T15:43:56.362679",
     "exception": false,
     "start_time": "2022-01-29T15:43:56.314540",
     "status": "completed"
    },
    "tags": []
   },
   "outputs": [
    {
     "data": {
      "text/html": [
       "<div>\n",
       "<style scoped>\n",
       "    .dataframe tbody tr th:only-of-type {\n",
       "        vertical-align: middle;\n",
       "    }\n",
       "\n",
       "    .dataframe tbody tr th {\n",
       "        vertical-align: top;\n",
       "    }\n",
       "\n",
       "    .dataframe thead th {\n",
       "        text-align: right;\n",
       "    }\n",
       "</style>\n",
       "<table border=\"1\" class=\"dataframe\">\n",
       "  <thead>\n",
       "    <tr style=\"text-align: right;\">\n",
       "      <th></th>\n",
       "      <th>bike_name</th>\n",
       "      <th>price</th>\n",
       "      <th>city</th>\n",
       "      <th>kms_driven</th>\n",
       "      <th>owner</th>\n",
       "      <th>age</th>\n",
       "      <th>power</th>\n",
       "      <th>brand</th>\n",
       "    </tr>\n",
       "  </thead>\n",
       "  <tbody>\n",
       "    <tr>\n",
       "      <th>0</th>\n",
       "      <td>TVS Star City Plus Dual Tone 110cc</td>\n",
       "      <td>35000.0</td>\n",
       "      <td>Ahmedabad</td>\n",
       "      <td>17654.0</td>\n",
       "      <td>First Owner</td>\n",
       "      <td>3.0</td>\n",
       "      <td>110.0</td>\n",
       "      <td>TVS</td>\n",
       "    </tr>\n",
       "    <tr>\n",
       "      <th>1</th>\n",
       "      <td>Royal Enfield Classic 350cc</td>\n",
       "      <td>119900.0</td>\n",
       "      <td>Delhi</td>\n",
       "      <td>11000.0</td>\n",
       "      <td>First Owner</td>\n",
       "      <td>4.0</td>\n",
       "      <td>350.0</td>\n",
       "      <td>Royal Enfield</td>\n",
       "    </tr>\n",
       "    <tr>\n",
       "      <th>2</th>\n",
       "      <td>Triumph Daytona 675R</td>\n",
       "      <td>600000.0</td>\n",
       "      <td>Delhi</td>\n",
       "      <td>110.0</td>\n",
       "      <td>First Owner</td>\n",
       "      <td>8.0</td>\n",
       "      <td>675.0</td>\n",
       "      <td>Triumph</td>\n",
       "    </tr>\n",
       "    <tr>\n",
       "      <th>3</th>\n",
       "      <td>TVS Apache RTR 180cc</td>\n",
       "      <td>65000.0</td>\n",
       "      <td>Bangalore</td>\n",
       "      <td>16329.0</td>\n",
       "      <td>First Owner</td>\n",
       "      <td>4.0</td>\n",
       "      <td>180.0</td>\n",
       "      <td>TVS</td>\n",
       "    </tr>\n",
       "    <tr>\n",
       "      <th>4</th>\n",
       "      <td>Yamaha FZ S V 2.0 150cc-Ltd. Edition</td>\n",
       "      <td>80000.0</td>\n",
       "      <td>Bangalore</td>\n",
       "      <td>10000.0</td>\n",
       "      <td>First Owner</td>\n",
       "      <td>3.0</td>\n",
       "      <td>150.0</td>\n",
       "      <td>Yamaha</td>\n",
       "    </tr>\n",
       "  </tbody>\n",
       "</table>\n",
       "</div>"
      ],
      "text/plain": [
       "                              bike_name     price       city  kms_driven  \\\n",
       "0    TVS Star City Plus Dual Tone 110cc   35000.0  Ahmedabad     17654.0   \n",
       "1           Royal Enfield Classic 350cc  119900.0      Delhi     11000.0   \n",
       "2                  Triumph Daytona 675R  600000.0      Delhi       110.0   \n",
       "3                  TVS Apache RTR 180cc   65000.0  Bangalore     16329.0   \n",
       "4  Yamaha FZ S V 2.0 150cc-Ltd. Edition   80000.0  Bangalore     10000.0   \n",
       "\n",
       "         owner  age  power          brand  \n",
       "0  First Owner  3.0  110.0            TVS  \n",
       "1  First Owner  4.0  350.0  Royal Enfield  \n",
       "2  First Owner  8.0  675.0        Triumph  \n",
       "3  First Owner  4.0  180.0            TVS  \n",
       "4  First Owner  3.0  150.0         Yamaha  "
      ]
     },
     "execution_count": 5,
     "metadata": {},
     "output_type": "execute_result"
    }
   ],
   "source": [
    "bikedata.head()"
   ]
  },
  {
   "cell_type": "markdown",
   "id": "977fcc80",
   "metadata": {
    "papermill": {
     "duration": 0.029998,
     "end_time": "2022-01-29T15:43:56.422384",
     "exception": false,
     "start_time": "2022-01-29T15:43:56.392386",
     "status": "completed"
    },
    "tags": []
   },
   "source": [
    "So this data has the prices of used bikes of 23 different brands in different Indian cties. Some of the bikes have been used by as many as 4 owners. There are far too many cities given in the dataset to have any significant effect on the analysis, so, the 'city' column has been deleted."
   ]
  },
  {
   "cell_type": "code",
   "execution_count": 6,
   "id": "7211b797",
   "metadata": {
    "execution": {
     "iopub.execute_input": "2022-01-29T15:43:56.488685Z",
     "iopub.status.busy": "2022-01-29T15:43:56.487963Z",
     "iopub.status.idle": "2022-01-29T15:43:56.490351Z",
     "shell.execute_reply": "2022-01-29T15:43:56.490813Z",
     "shell.execute_reply.started": "2021-10-29T14:19:18.058714Z"
    },
    "papermill": {
     "duration": 0.037395,
     "end_time": "2022-01-29T15:43:56.490989",
     "exception": false,
     "start_time": "2022-01-29T15:43:56.453594",
     "status": "completed"
    },
    "tags": []
   },
   "outputs": [],
   "source": [
    "del bikedata['city']"
   ]
  },
  {
   "cell_type": "code",
   "execution_count": 7,
   "id": "10e0ad3c",
   "metadata": {
    "execution": {
     "iopub.execute_input": "2022-01-29T15:43:56.554586Z",
     "iopub.status.busy": "2022-01-29T15:43:56.553973Z",
     "iopub.status.idle": "2022-01-29T15:43:57.118126Z",
     "shell.execute_reply": "2022-01-29T15:43:57.118686Z",
     "shell.execute_reply.started": "2021-10-29T14:19:18.065886Z"
    },
    "papermill": {
     "duration": 0.597658,
     "end_time": "2022-01-29T15:43:57.118876",
     "exception": false,
     "start_time": "2022-01-29T15:43:56.521218",
     "status": "completed"
    },
    "tags": []
   },
   "outputs": [
    {
     "name": "stderr",
     "output_type": "stream",
     "text": [
      "/opt/conda/lib/python3.7/site-packages/seaborn/distributions.py:2619: FutureWarning: `distplot` is a deprecated function and will be removed in a future version. Please adapt your code to use either `displot` (a figure-level function with similar flexibility) or `histplot` (an axes-level function for histograms).\n",
      "  warnings.warn(msg, FutureWarning)\n"
     ]
    },
    {
     "data": {
      "text/plain": [
       "<AxesSubplot:xlabel='price', ylabel='Density'>"
      ]
     },
     "execution_count": 7,
     "metadata": {},
     "output_type": "execute_result"
    },
    {
     "data": {
      "image/png": "[encoded data removed]",
      "text/plain": [
       "<Figure size 432x288 with 1 Axes>"
      ]
     },
     "metadata": {
      "needs_background": "light"
     },
     "output_type": "display_data"
    }
   ],
   "source": [
    "sns.distplot(bikedata['price'])"
   ]
  },
  {
   "cell_type": "markdown",
   "id": "49eabb23",
   "metadata": {
    "papermill": {
     "duration": 0.031564,
     "end_time": "2022-01-29T15:43:57.181776",
     "exception": false,
     "start_time": "2022-01-29T15:43:57.150212",
     "status": "completed"
    },
    "tags": []
   },
   "source": [
    "'price' has been taken as the dependent variable for the analysis. The distribution plot is positively skewed."
   ]
  },
  {
   "cell_type": "code",
   "execution_count": 8,
   "id": "aac9ae6a",
   "metadata": {
    "execution": {
     "iopub.execute_input": "2022-01-29T15:43:57.248246Z",
     "iopub.status.busy": "2022-01-29T15:43:57.247613Z",
     "iopub.status.idle": "2022-01-29T15:43:57.254442Z",
     "shell.execute_reply": "2022-01-29T15:43:57.255185Z",
     "shell.execute_reply.started": "2021-10-29T14:19:18.731774Z"
    },
    "papermill": {
     "duration": 0.042235,
     "end_time": "2022-01-29T15:43:57.255413",
     "exception": false,
     "start_time": "2022-01-29T15:43:57.213178",
     "status": "completed"
    },
    "tags": []
   },
   "outputs": [
    {
     "name": "stdout",
     "output_type": "stream",
     "text": [
      "skewness =  5.78019041593245\n",
      "kurtosis =  55.51444868143317\n"
     ]
    }
   ],
   "source": [
    "print('skewness = ',bikedata['price'].skew())\n",
    "print('kurtosis = ',bikedata['price'].kurt())"
   ]
  },
  {
   "cell_type": "markdown",
   "id": "06b459ff",
   "metadata": {
    "papermill": {
     "duration": 0.031296,
     "end_time": "2022-01-29T15:43:57.319255",
     "exception": false,
     "start_time": "2022-01-29T15:43:57.287959",
     "status": "completed"
    },
    "tags": []
   },
   "source": [
    "The distribution of our target vaiable is positively skewed and is leptokurtic."
   ]
  },
  {
   "cell_type": "code",
   "execution_count": 9,
   "id": "9976656e",
   "metadata": {
    "execution": {
     "iopub.execute_input": "2022-01-29T15:43:57.387929Z",
     "iopub.status.busy": "2022-01-29T15:43:57.387208Z",
     "iopub.status.idle": "2022-01-29T15:43:57.392212Z",
     "shell.execute_reply": "2022-01-29T15:43:57.392693Z",
     "shell.execute_reply.started": "2021-10-29T14:19:18.741240Z"
    },
    "papermill": {
     "duration": 0.040522,
     "end_time": "2022-01-29T15:43:57.392900",
     "exception": false,
     "start_time": "2022-01-29T15:43:57.352378",
     "status": "completed"
    },
    "tags": []
   },
   "outputs": [],
   "source": [
    "bikedata['new_price']=np.log(bikedata['price'])"
   ]
  },
  {
   "cell_type": "markdown",
   "id": "821d1fa4",
   "metadata": {
    "papermill": {
     "duration": 0.031391,
     "end_time": "2022-01-29T15:43:57.455878",
     "exception": false,
     "start_time": "2022-01-29T15:43:57.424487",
     "status": "completed"
    },
    "tags": []
   },
   "source": [
    "To reduce the skewness of the distrbution curve, the 'price' variable has been transformed using log transformation."
   ]
  },
  {
   "cell_type": "code",
   "execution_count": 10,
   "id": "6bf2c6a1",
   "metadata": {
    "execution": {
     "iopub.execute_input": "2022-01-29T15:43:57.522999Z",
     "iopub.status.busy": "2022-01-29T15:43:57.522354Z",
     "iopub.status.idle": "2022-01-29T15:43:57.529378Z",
     "shell.execute_reply": "2022-01-29T15:43:57.529972Z",
     "shell.execute_reply.started": "2021-10-29T14:19:18.753823Z"
    },
    "papermill": {
     "duration": 0.042687,
     "end_time": "2022-01-29T15:43:57.530148",
     "exception": false,
     "start_time": "2022-01-29T15:43:57.487461",
     "status": "completed"
    },
    "tags": []
   },
   "outputs": [
    {
     "data": {
      "text/plain": [
       "0        10.463103\n",
       "1        11.694413\n",
       "2        13.304685\n",
       "3        11.082143\n",
       "4        11.289782\n",
       "           ...    \n",
       "32643    10.571317\n",
       "32644    10.308953\n",
       "32645    11.002100\n",
       "32646     9.655026\n",
       "32647     9.998798\n",
       "Name: new_price, Length: 32648, dtype: float64"
      ]
     },
     "execution_count": 10,
     "metadata": {},
     "output_type": "execute_result"
    }
   ],
   "source": [
    "bikedata['new_price']"
   ]
  },
  {
   "cell_type": "code",
   "execution_count": 11,
   "id": "061aa00c",
   "metadata": {
    "execution": {
     "iopub.execute_input": "2022-01-29T15:43:57.618462Z",
     "iopub.status.busy": "2022-01-29T15:43:57.617102Z",
     "iopub.status.idle": "2022-01-29T15:43:58.101215Z",
     "shell.execute_reply": "2022-01-29T15:43:58.100556Z",
     "shell.execute_reply.started": "2021-10-29T14:19:18.767176Z"
    },
    "papermill": {
     "duration": 0.539429,
     "end_time": "2022-01-29T15:43:58.101366",
     "exception": false,
     "start_time": "2022-01-29T15:43:57.561937",
     "status": "completed"
    },
    "tags": []
   },
   "outputs": [
    {
     "name": "stderr",
     "output_type": "stream",
     "text": [
      "/opt/conda/lib/python3.7/site-packages/seaborn/distributions.py:2619: FutureWarning: `distplot` is a deprecated function and will be removed in a future version. Please adapt your code to use either `displot` (a figure-level function with similar flexibility) or `histplot` (an axes-level function for histograms).\n",
      "  warnings.warn(msg, FutureWarning)\n"
     ]
    },
    {
     "data": {
      "text/plain": [
       "<AxesSubplot:xlabel='new_price', ylabel='Density'>"
      ]
     },
     "execution_count": 11,
     "metadata": {},
     "output_type": "execute_result"
    },
    {
     "data": {
      "image/png": "[encoded data removed]",
      "text/plain": [
       "<Figure size 432x288 with 1 Axes>"
      ]
     },
     "metadata": {
      "needs_background": "light"
     },
     "output_type": "display_data"
    }
   ],
   "source": [
    "sns.distplot(bikedata['new_price'])"
   ]
  },
  {
   "cell_type": "markdown",
   "id": "b9cd3249",
   "metadata": {
    "papermill": {
     "duration": 0.033586,
     "end_time": "2022-01-29T15:43:58.168443",
     "exception": false,
     "start_time": "2022-01-29T15:43:58.134857",
     "status": "completed"
    },
    "tags": []
   },
   "source": [
    "Now the distribution of the transformed target variable is much closer to normal distribution than the untransformed variable."
   ]
  },
  {
   "cell_type": "code",
   "execution_count": 12,
   "id": "16294b23",
   "metadata": {
    "execution": {
     "iopub.execute_input": "2022-01-29T15:43:58.238779Z",
     "iopub.status.busy": "2022-01-29T15:43:58.238144Z",
     "iopub.status.idle": "2022-01-29T15:43:58.246898Z",
     "shell.execute_reply": "2022-01-29T15:43:58.246014Z",
     "shell.execute_reply.started": "2021-10-29T14:19:19.302517Z"
    },
    "papermill": {
     "duration": 0.045419,
     "end_time": "2022-01-29T15:43:58.247116",
     "exception": false,
     "start_time": "2022-01-29T15:43:58.201697",
     "status": "completed"
    },
    "tags": []
   },
   "outputs": [
    {
     "name": "stdout",
     "output_type": "stream",
     "text": [
      "skewness =  0.5481552442679232\n",
      "kurtosis =  0.3532949142907329\n"
     ]
    }
   ],
   "source": [
    "print('skewness = ',bikedata['new_price'].skew())\n",
    "print('kurtosis = ',bikedata['new_price'].kurt())"
   ]
  },
  {
   "cell_type": "code",
   "execution_count": 13,
   "id": "d690205a",
   "metadata": {
    "execution": {
     "iopub.execute_input": "2022-01-29T15:43:58.322056Z",
     "iopub.status.busy": "2022-01-29T15:43:58.321383Z",
     "iopub.status.idle": "2022-01-29T15:43:58.328296Z",
     "shell.execute_reply": "2022-01-29T15:43:58.327659Z",
     "shell.execute_reply.started": "2021-10-29T14:19:19.311679Z"
    },
    "papermill": {
     "duration": 0.046948,
     "end_time": "2022-01-29T15:43:58.328441",
     "exception": false,
     "start_time": "2022-01-29T15:43:58.281493",
     "status": "completed"
    },
    "tags": []
   },
   "outputs": [],
   "source": [
    "indep=['kms_driven','owner','age','power','brand']\n",
    "X=bikedata[indep]"
   ]
  },
  {
   "cell_type": "code",
   "execution_count": 14,
   "id": "78249ed0",
   "metadata": {
    "execution": {
     "iopub.execute_input": "2022-01-29T15:43:58.401183Z",
     "iopub.status.busy": "2022-01-29T15:43:58.399426Z",
     "iopub.status.idle": "2022-01-29T15:43:58.404692Z",
     "shell.execute_reply": "2022-01-29T15:43:58.404023Z",
     "shell.execute_reply.started": "2021-10-29T14:19:19.325805Z"
    },
    "papermill": {
     "duration": 0.042593,
     "end_time": "2022-01-29T15:43:58.404871",
     "exception": false,
     "start_time": "2022-01-29T15:43:58.362278",
     "status": "completed"
    },
    "tags": []
   },
   "outputs": [],
   "source": [
    "Y=bikedata['new_price']"
   ]
  },
  {
   "cell_type": "code",
   "execution_count": 15,
   "id": "d0eaa5d9",
   "metadata": {
    "execution": {
     "iopub.execute_input": "2022-01-29T15:43:58.497254Z",
     "iopub.status.busy": "2022-01-29T15:43:58.496360Z",
     "iopub.status.idle": "2022-01-29T15:43:58.499989Z",
     "shell.execute_reply": "2022-01-29T15:43:58.500498Z",
     "shell.execute_reply.started": "2021-10-29T14:19:19.334546Z"
    },
    "papermill": {
     "duration": 0.060176,
     "end_time": "2022-01-29T15:43:58.500692",
     "exception": false,
     "start_time": "2022-01-29T15:43:58.440516",
     "status": "completed"
    },
    "tags": []
   },
   "outputs": [
    {
     "data": {
      "text/html": [
       "<div>\n",
       "<style scoped>\n",
       "    .dataframe tbody tr th:only-of-type {\n",
       "        vertical-align: middle;\n",
       "    }\n",
       "\n",
       "    .dataframe tbody tr th {\n",
       "        vertical-align: top;\n",
       "    }\n",
       "\n",
       "    .dataframe thead th {\n",
       "        text-align: right;\n",
       "    }\n",
       "</style>\n",
       "<table border=\"1\" class=\"dataframe\">\n",
       "  <thead>\n",
       "    <tr style=\"text-align: right;\">\n",
       "      <th></th>\n",
       "      <th>kms_driven</th>\n",
       "      <th>owner</th>\n",
       "      <th>age</th>\n",
       "      <th>power</th>\n",
       "      <th>brand</th>\n",
       "    </tr>\n",
       "  </thead>\n",
       "  <tbody>\n",
       "    <tr>\n",
       "      <th>0</th>\n",
       "      <td>17654.0</td>\n",
       "      <td>First Owner</td>\n",
       "      <td>3.0</td>\n",
       "      <td>110.0</td>\n",
       "      <td>TVS</td>\n",
       "    </tr>\n",
       "    <tr>\n",
       "      <th>1</th>\n",
       "      <td>11000.0</td>\n",
       "      <td>First Owner</td>\n",
       "      <td>4.0</td>\n",
       "      <td>350.0</td>\n",
       "      <td>Royal Enfield</td>\n",
       "    </tr>\n",
       "    <tr>\n",
       "      <th>2</th>\n",
       "      <td>110.0</td>\n",
       "      <td>First Owner</td>\n",
       "      <td>8.0</td>\n",
       "      <td>675.0</td>\n",
       "      <td>Triumph</td>\n",
       "    </tr>\n",
       "    <tr>\n",
       "      <th>3</th>\n",
       "      <td>16329.0</td>\n",
       "      <td>First Owner</td>\n",
       "      <td>4.0</td>\n",
       "      <td>180.0</td>\n",
       "      <td>TVS</td>\n",
       "    </tr>\n",
       "    <tr>\n",
       "      <th>4</th>\n",
       "      <td>10000.0</td>\n",
       "      <td>First Owner</td>\n",
       "      <td>3.0</td>\n",
       "      <td>150.0</td>\n",
       "      <td>Yamaha</td>\n",
       "    </tr>\n",
       "    <tr>\n",
       "      <th>...</th>\n",
       "      <td>...</td>\n",
       "      <td>...</td>\n",
       "      <td>...</td>\n",
       "      <td>...</td>\n",
       "      <td>...</td>\n",
       "    </tr>\n",
       "    <tr>\n",
       "      <th>32643</th>\n",
       "      <td>22000.0</td>\n",
       "      <td>First Owner</td>\n",
       "      <td>4.0</td>\n",
       "      <td>100.0</td>\n",
       "      <td>Hero</td>\n",
       "    </tr>\n",
       "    <tr>\n",
       "      <th>32644</th>\n",
       "      <td>6639.0</td>\n",
       "      <td>First Owner</td>\n",
       "      <td>9.0</td>\n",
       "      <td>180.0</td>\n",
       "      <td>TVS</td>\n",
       "    </tr>\n",
       "    <tr>\n",
       "      <th>32645</th>\n",
       "      <td>20373.0</td>\n",
       "      <td>First Owner</td>\n",
       "      <td>6.0</td>\n",
       "      <td>220.0</td>\n",
       "      <td>Bajaj</td>\n",
       "    </tr>\n",
       "    <tr>\n",
       "      <th>32646</th>\n",
       "      <td>84186.0</td>\n",
       "      <td>First Owner</td>\n",
       "      <td>16.0</td>\n",
       "      <td>125.0</td>\n",
       "      <td>Hero</td>\n",
       "    </tr>\n",
       "    <tr>\n",
       "      <th>32647</th>\n",
       "      <td>60857.0</td>\n",
       "      <td>First Owner</td>\n",
       "      <td>13.0</td>\n",
       "      <td>150.0</td>\n",
       "      <td>Bajaj</td>\n",
       "    </tr>\n",
       "  </tbody>\n",
       "</table>\n",
       "<p>32648 rows × 5 columns</p>\n",
       "</div>"
      ],
      "text/plain": [
       "       kms_driven        owner   age  power          brand\n",
       "0         17654.0  First Owner   3.0  110.0            TVS\n",
       "1         11000.0  First Owner   4.0  350.0  Royal Enfield\n",
       "2           110.0  First Owner   8.0  675.0        Triumph\n",
       "3         16329.0  First Owner   4.0  180.0            TVS\n",
       "4         10000.0  First Owner   3.0  150.0         Yamaha\n",
       "...           ...          ...   ...    ...            ...\n",
       "32643     22000.0  First Owner   4.0  100.0           Hero\n",
       "32644      6639.0  First Owner   9.0  180.0            TVS\n",
       "32645     20373.0  First Owner   6.0  220.0          Bajaj\n",
       "32646     84186.0  First Owner  16.0  125.0           Hero\n",
       "32647     60857.0  First Owner  13.0  150.0          Bajaj\n",
       "\n",
       "[32648 rows x 5 columns]"
      ]
     },
     "execution_count": 15,
     "metadata": {},
     "output_type": "execute_result"
    }
   ],
   "source": [
    "X"
   ]
  },
  {
   "cell_type": "code",
   "execution_count": 16,
   "id": "5ca842c5",
   "metadata": {
    "execution": {
     "iopub.execute_input": "2022-01-29T15:43:58.574272Z",
     "iopub.status.busy": "2022-01-29T15:43:58.573260Z",
     "iopub.status.idle": "2022-01-29T15:43:58.580909Z",
     "shell.execute_reply": "2022-01-29T15:43:58.581508Z",
     "shell.execute_reply.started": "2021-10-29T14:19:19.364401Z"
    },
    "papermill": {
     "duration": 0.046128,
     "end_time": "2022-01-29T15:43:58.581699",
     "exception": false,
     "start_time": "2022-01-29T15:43:58.535571",
     "status": "completed"
    },
    "tags": []
   },
   "outputs": [
    {
     "data": {
      "text/plain": [
       "0        10.463103\n",
       "1        11.694413\n",
       "2        13.304685\n",
       "3        11.082143\n",
       "4        11.289782\n",
       "           ...    \n",
       "32643    10.571317\n",
       "32644    10.308953\n",
       "32645    11.002100\n",
       "32646     9.655026\n",
       "32647     9.998798\n",
       "Name: new_price, Length: 32648, dtype: float64"
      ]
     },
     "execution_count": 16,
     "metadata": {},
     "output_type": "execute_result"
    }
   ],
   "source": [
    "Y"
   ]
  },
  {
   "cell_type": "code",
   "execution_count": 17,
   "id": "d4d1a362",
   "metadata": {
    "execution": {
     "iopub.execute_input": "2022-01-29T15:43:58.656857Z",
     "iopub.status.busy": "2022-01-29T15:43:58.655859Z",
     "iopub.status.idle": "2022-01-29T15:43:58.671586Z",
     "shell.execute_reply": "2022-01-29T15:43:58.672148Z",
     "shell.execute_reply.started": "2021-10-29T14:19:19.373827Z"
    },
    "papermill": {
     "duration": 0.055453,
     "end_time": "2022-01-29T15:43:58.672352",
     "exception": false,
     "start_time": "2022-01-29T15:43:58.616899",
     "status": "completed"
    },
    "tags": []
   },
   "outputs": [],
   "source": [
    "X=pd.get_dummies(data=X,columns=['owner'])"
   ]
  },
  {
   "cell_type": "markdown",
   "id": "95db5052",
   "metadata": {
    "papermill": {
     "duration": 0.035482,
     "end_time": "2022-01-29T15:43:58.743967",
     "exception": false,
     "start_time": "2022-01-29T15:43:58.708485",
     "status": "completed"
    },
    "tags": []
   },
   "source": [
    "Two of our independent variables i.e; 'owner' and 'brand' are categorical. So, dummy variables are created for these variables."
   ]
  },
  {
   "cell_type": "code",
   "execution_count": 18,
   "id": "100f0ad2",
   "metadata": {
    "execution": {
     "iopub.execute_input": "2022-01-29T15:43:58.817845Z",
     "iopub.status.busy": "2022-01-29T15:43:58.816836Z",
     "iopub.status.idle": "2022-01-29T15:43:58.835295Z",
     "shell.execute_reply": "2022-01-29T15:43:58.835859Z",
     "shell.execute_reply.started": "2021-10-29T14:19:19.392276Z"
    },
    "papermill": {
     "duration": 0.057178,
     "end_time": "2022-01-29T15:43:58.836058",
     "exception": false,
     "start_time": "2022-01-29T15:43:58.778880",
     "status": "completed"
    },
    "tags": []
   },
   "outputs": [],
   "source": [
    "X=pd.get_dummies(data=X,columns=['brand'])"
   ]
  },
  {
   "cell_type": "code",
   "execution_count": 19,
   "id": "d380aae7",
   "metadata": {
    "execution": {
     "iopub.execute_input": "2022-01-29T15:43:58.909706Z",
     "iopub.status.busy": "2022-01-29T15:43:58.908793Z",
     "iopub.status.idle": "2022-01-29T15:43:58.937992Z",
     "shell.execute_reply": "2022-01-29T15:43:58.937415Z",
     "shell.execute_reply.started": "2021-10-29T14:19:19.410177Z"
    },
    "papermill": {
     "duration": 0.0673,
     "end_time": "2022-01-29T15:43:58.938155",
     "exception": false,
     "start_time": "2022-01-29T15:43:58.870855",
     "status": "completed"
    },
    "tags": []
   },
   "outputs": [
    {
     "data": {
      "text/html": [
       "<div>\n",
       "<style scoped>\n",
       "    .dataframe tbody tr th:only-of-type {\n",
       "        vertical-align: middle;\n",
       "    }\n",
       "\n",
       "    .dataframe tbody tr th {\n",
       "        vertical-align: top;\n",
       "    }\n",
       "\n",
       "    .dataframe thead th {\n",
       "        text-align: right;\n",
       "    }\n",
       "</style>\n",
       "<table border=\"1\" class=\"dataframe\">\n",
       "  <thead>\n",
       "    <tr style=\"text-align: right;\">\n",
       "      <th></th>\n",
       "      <th>kms_driven</th>\n",
       "      <th>age</th>\n",
       "      <th>power</th>\n",
       "      <th>owner_First Owner</th>\n",
       "      <th>owner_Fourth Owner Or More</th>\n",
       "      <th>owner_Second Owner</th>\n",
       "      <th>owner_Third Owner</th>\n",
       "      <th>brand_BMW</th>\n",
       "      <th>brand_Bajaj</th>\n",
       "      <th>brand_Benelli</th>\n",
       "      <th>...</th>\n",
       "      <th>brand_LML</th>\n",
       "      <th>brand_MV</th>\n",
       "      <th>brand_Mahindra</th>\n",
       "      <th>brand_Rajdoot</th>\n",
       "      <th>brand_Royal Enfield</th>\n",
       "      <th>brand_Suzuki</th>\n",
       "      <th>brand_TVS</th>\n",
       "      <th>brand_Triumph</th>\n",
       "      <th>brand_Yamaha</th>\n",
       "      <th>brand_Yezdi</th>\n",
       "    </tr>\n",
       "  </thead>\n",
       "  <tbody>\n",
       "    <tr>\n",
       "      <th>0</th>\n",
       "      <td>17654.0</td>\n",
       "      <td>3.0</td>\n",
       "      <td>110.0</td>\n",
       "      <td>1</td>\n",
       "      <td>0</td>\n",
       "      <td>0</td>\n",
       "      <td>0</td>\n",
       "      <td>0</td>\n",
       "      <td>0</td>\n",
       "      <td>0</td>\n",
       "      <td>...</td>\n",
       "      <td>0</td>\n",
       "      <td>0</td>\n",
       "      <td>0</td>\n",
       "      <td>0</td>\n",
       "      <td>0</td>\n",
       "      <td>0</td>\n",
       "      <td>1</td>\n",
       "      <td>0</td>\n",
       "      <td>0</td>\n",
       "      <td>0</td>\n",
       "    </tr>\n",
       "    <tr>\n",
       "      <th>1</th>\n",
       "      <td>11000.0</td>\n",
       "      <td>4.0</td>\n",
       "      <td>350.0</td>\n",
       "      <td>1</td>\n",
       "      <td>0</td>\n",
       "      <td>0</td>\n",
       "      <td>0</td>\n",
       "      <td>0</td>\n",
       "      <td>0</td>\n",
       "      <td>0</td>\n",
       "      <td>...</td>\n",
       "      <td>0</td>\n",
       "      <td>0</td>\n",
       "      <td>0</td>\n",
       "      <td>0</td>\n",
       "      <td>1</td>\n",
       "      <td>0</td>\n",
       "      <td>0</td>\n",
       "      <td>0</td>\n",
       "      <td>0</td>\n",
       "      <td>0</td>\n",
       "    </tr>\n",
       "    <tr>\n",
       "      <th>2</th>\n",
       "      <td>110.0</td>\n",
       "      <td>8.0</td>\n",
       "      <td>675.0</td>\n",
       "      <td>1</td>\n",
       "      <td>0</td>\n",
       "      <td>0</td>\n",
       "      <td>0</td>\n",
       "      <td>0</td>\n",
       "      <td>0</td>\n",
       "      <td>0</td>\n",
       "      <td>...</td>\n",
       "      <td>0</td>\n",
       "      <td>0</td>\n",
       "      <td>0</td>\n",
       "      <td>0</td>\n",
       "      <td>0</td>\n",
       "      <td>0</td>\n",
       "      <td>0</td>\n",
       "      <td>1</td>\n",
       "      <td>0</td>\n",
       "      <td>0</td>\n",
       "    </tr>\n",
       "    <tr>\n",
       "      <th>3</th>\n",
       "      <td>16329.0</td>\n",
       "      <td>4.0</td>\n",
       "      <td>180.0</td>\n",
       "      <td>1</td>\n",
       "      <td>0</td>\n",
       "      <td>0</td>\n",
       "      <td>0</td>\n",
       "      <td>0</td>\n",
       "      <td>0</td>\n",
       "      <td>0</td>\n",
       "      <td>...</td>\n",
       "      <td>0</td>\n",
       "      <td>0</td>\n",
       "      <td>0</td>\n",
       "      <td>0</td>\n",
       "      <td>0</td>\n",
       "      <td>0</td>\n",
       "      <td>1</td>\n",
       "      <td>0</td>\n",
       "      <td>0</td>\n",
       "      <td>0</td>\n",
       "    </tr>\n",
       "    <tr>\n",
       "      <th>4</th>\n",
       "      <td>10000.0</td>\n",
       "      <td>3.0</td>\n",
       "      <td>150.0</td>\n",
       "      <td>1</td>\n",
       "      <td>0</td>\n",
       "      <td>0</td>\n",
       "      <td>0</td>\n",
       "      <td>0</td>\n",
       "      <td>0</td>\n",
       "      <td>0</td>\n",
       "      <td>...</td>\n",
       "      <td>0</td>\n",
       "      <td>0</td>\n",
       "      <td>0</td>\n",
       "      <td>0</td>\n",
       "      <td>0</td>\n",
       "      <td>0</td>\n",
       "      <td>0</td>\n",
       "      <td>0</td>\n",
       "      <td>1</td>\n",
       "      <td>0</td>\n",
       "    </tr>\n",
       "    <tr>\n",
       "      <th>...</th>\n",
       "      <td>...</td>\n",
       "      <td>...</td>\n",
       "      <td>...</td>\n",
       "      <td>...</td>\n",
       "      <td>...</td>\n",
       "      <td>...</td>\n",
       "      <td>...</td>\n",
       "      <td>...</td>\n",
       "      <td>...</td>\n",
       "      <td>...</td>\n",
       "      <td>...</td>\n",
       "      <td>...</td>\n",
       "      <td>...</td>\n",
       "      <td>...</td>\n",
       "      <td>...</td>\n",
       "      <td>...</td>\n",
       "      <td>...</td>\n",
       "      <td>...</td>\n",
       "      <td>...</td>\n",
       "      <td>...</td>\n",
       "      <td>...</td>\n",
       "    </tr>\n",
       "    <tr>\n",
       "      <th>32643</th>\n",
       "      <td>22000.0</td>\n",
       "      <td>4.0</td>\n",
       "      <td>100.0</td>\n",
       "      <td>1</td>\n",
       "      <td>0</td>\n",
       "      <td>0</td>\n",
       "      <td>0</td>\n",
       "      <td>0</td>\n",
       "      <td>0</td>\n",
       "      <td>0</td>\n",
       "      <td>...</td>\n",
       "      <td>0</td>\n",
       "      <td>0</td>\n",
       "      <td>0</td>\n",
       "      <td>0</td>\n",
       "      <td>0</td>\n",
       "      <td>0</td>\n",
       "      <td>0</td>\n",
       "      <td>0</td>\n",
       "      <td>0</td>\n",
       "      <td>0</td>\n",
       "    </tr>\n",
       "    <tr>\n",
       "      <th>32644</th>\n",
       "      <td>6639.0</td>\n",
       "      <td>9.0</td>\n",
       "      <td>180.0</td>\n",
       "      <td>1</td>\n",
       "      <td>0</td>\n",
       "      <td>0</td>\n",
       "      <td>0</td>\n",
       "      <td>0</td>\n",
       "      <td>0</td>\n",
       "      <td>0</td>\n",
       "      <td>...</td>\n",
       "      <td>0</td>\n",
       "      <td>0</td>\n",
       "      <td>0</td>\n",
       "      <td>0</td>\n",
       "      <td>0</td>\n",
       "      <td>0</td>\n",
       "      <td>1</td>\n",
       "      <td>0</td>\n",
       "      <td>0</td>\n",
       "      <td>0</td>\n",
       "    </tr>\n",
       "    <tr>\n",
       "      <th>32645</th>\n",
       "      <td>20373.0</td>\n",
       "      <td>6.0</td>\n",
       "      <td>220.0</td>\n",
       "      <td>1</td>\n",
       "      <td>0</td>\n",
       "      <td>0</td>\n",
       "      <td>0</td>\n",
       "      <td>0</td>\n",
       "      <td>1</td>\n",
       "      <td>0</td>\n",
       "      <td>...</td>\n",
       "      <td>0</td>\n",
       "      <td>0</td>\n",
       "      <td>0</td>\n",
       "      <td>0</td>\n",
       "      <td>0</td>\n",
       "      <td>0</td>\n",
       "      <td>0</td>\n",
       "      <td>0</td>\n",
       "      <td>0</td>\n",
       "      <td>0</td>\n",
       "    </tr>\n",
       "    <tr>\n",
       "      <th>32646</th>\n",
       "      <td>84186.0</td>\n",
       "      <td>16.0</td>\n",
       "      <td>125.0</td>\n",
       "      <td>1</td>\n",
       "      <td>0</td>\n",
       "      <td>0</td>\n",
       "      <td>0</td>\n",
       "      <td>0</td>\n",
       "      <td>0</td>\n",
       "      <td>0</td>\n",
       "      <td>...</td>\n",
       "      <td>0</td>\n",
       "      <td>0</td>\n",
       "      <td>0</td>\n",
       "      <td>0</td>\n",
       "      <td>0</td>\n",
       "      <td>0</td>\n",
       "      <td>0</td>\n",
       "      <td>0</td>\n",
       "      <td>0</td>\n",
       "      <td>0</td>\n",
       "    </tr>\n",
       "    <tr>\n",
       "      <th>32647</th>\n",
       "      <td>60857.0</td>\n",
       "      <td>13.0</td>\n",
       "      <td>150.0</td>\n",
       "      <td>1</td>\n",
       "      <td>0</td>\n",
       "      <td>0</td>\n",
       "      <td>0</td>\n",
       "      <td>0</td>\n",
       "      <td>1</td>\n",
       "      <td>0</td>\n",
       "      <td>...</td>\n",
       "      <td>0</td>\n",
       "      <td>0</td>\n",
       "      <td>0</td>\n",
       "      <td>0</td>\n",
       "      <td>0</td>\n",
       "      <td>0</td>\n",
       "      <td>0</td>\n",
       "      <td>0</td>\n",
       "      <td>0</td>\n",
       "      <td>0</td>\n",
       "    </tr>\n",
       "  </tbody>\n",
       "</table>\n",
       "<p>32648 rows × 30 columns</p>\n",
       "</div>"
      ],
      "text/plain": [
       "       kms_driven   age  power  owner_First Owner  owner_Fourth Owner Or More  \\\n",
       "0         17654.0   3.0  110.0                  1                           0   \n",
       "1         11000.0   4.0  350.0                  1                           0   \n",
       "2           110.0   8.0  675.0                  1                           0   \n",
       "3         16329.0   4.0  180.0                  1                           0   \n",
       "4         10000.0   3.0  150.0                  1                           0   \n",
       "...           ...   ...    ...                ...                         ...   \n",
       "32643     22000.0   4.0  100.0                  1                           0   \n",
       "32644      6639.0   9.0  180.0                  1                           0   \n",
       "32645     20373.0   6.0  220.0                  1                           0   \n",
       "32646     84186.0  16.0  125.0                  1                           0   \n",
       "32647     60857.0  13.0  150.0                  1                           0   \n",
       "\n",
       "       owner_Second Owner  owner_Third Owner  brand_BMW  brand_Bajaj  \\\n",
       "0                       0                  0          0            0   \n",
       "1                       0                  0          0            0   \n",
       "2                       0                  0          0            0   \n",
       "3                       0                  0          0            0   \n",
       "4                       0                  0          0            0   \n",
       "...                   ...                ...        ...          ...   \n",
       "32643                   0                  0          0            0   \n",
       "32644                   0                  0          0            0   \n",
       "32645                   0                  0          0            1   \n",
       "32646                   0                  0          0            0   \n",
       "32647                   0                  0          0            1   \n",
       "\n",
       "       brand_Benelli  ...  brand_LML  brand_MV  brand_Mahindra  brand_Rajdoot  \\\n",
       "0                  0  ...          0         0               0              0   \n",
       "1                  0  ...          0         0               0              0   \n",
       "2                  0  ...          0         0               0              0   \n",
       "3                  0  ...          0         0               0              0   \n",
       "4                  0  ...          0         0               0              0   \n",
       "...              ...  ...        ...       ...             ...            ...   \n",
       "32643              0  ...          0         0               0              0   \n",
       "32644              0  ...          0         0               0              0   \n",
       "32645              0  ...          0         0               0              0   \n",
       "32646              0  ...          0         0               0              0   \n",
       "32647              0  ...          0         0               0              0   \n",
       "\n",
       "       brand_Royal Enfield  brand_Suzuki  brand_TVS  brand_Triumph  \\\n",
       "0                        0             0          1              0   \n",
       "1                        1             0          0              0   \n",
       "2                        0             0          0              1   \n",
       "3                        0             0          1              0   \n",
       "4                        0             0          0              0   \n",
       "...                    ...           ...        ...            ...   \n",
       "32643                    0             0          0              0   \n",
       "32644                    0             0          1              0   \n",
       "32645                    0             0          0              0   \n",
       "32646                    0             0          0              0   \n",
       "32647                    0             0          0              0   \n",
       "\n",
       "       brand_Yamaha  brand_Yezdi  \n",
       "0                 0            0  \n",
       "1                 0            0  \n",
       "2                 0            0  \n",
       "3                 0            0  \n",
       "4                 1            0  \n",
       "...             ...          ...  \n",
       "32643             0            0  \n",
       "32644             0            0  \n",
       "32645             0            0  \n",
       "32646             0            0  \n",
       "32647             0            0  \n",
       "\n",
       "[32648 rows x 30 columns]"
      ]
     },
     "execution_count": 19,
     "metadata": {},
     "output_type": "execute_result"
    }
   ],
   "source": [
    "X"
   ]
  },
  {
   "cell_type": "code",
   "execution_count": 20,
   "id": "2951989a",
   "metadata": {
    "execution": {
     "iopub.execute_input": "2022-01-29T15:43:59.014751Z",
     "iopub.status.busy": "2022-01-29T15:43:59.013770Z",
     "iopub.status.idle": "2022-01-29T15:43:59.283986Z",
     "shell.execute_reply": "2022-01-29T15:43:59.283206Z",
     "shell.execute_reply.started": "2021-10-29T14:19:19.438494Z"
    },
    "papermill": {
     "duration": 0.309187,
     "end_time": "2022-01-29T15:43:59.284144",
     "exception": false,
     "start_time": "2022-01-29T15:43:58.974957",
     "status": "completed"
    },
    "tags": []
   },
   "outputs": [],
   "source": [
    "from sklearn.linear_model import LinearRegression\n",
    "from sklearn.model_selection import train_test_split, cross_val_score\n",
    "from sklearn.metrics import r2_score"
   ]
  },
  {
   "cell_type": "code",
   "execution_count": 21,
   "id": "e32bfb3c",
   "metadata": {
    "execution": {
     "iopub.execute_input": "2022-01-29T15:43:59.361029Z",
     "iopub.status.busy": "2022-01-29T15:43:59.359977Z",
     "iopub.status.idle": "2022-01-29T15:43:59.379136Z",
     "shell.execute_reply": "2022-01-29T15:43:59.379662Z",
     "shell.execute_reply.started": "2021-10-29T14:19:19.679574Z"
    },
    "papermill": {
     "duration": 0.058932,
     "end_time": "2022-01-29T15:43:59.379880",
     "exception": false,
     "start_time": "2022-01-29T15:43:59.320948",
     "status": "completed"
    },
    "tags": []
   },
   "outputs": [],
   "source": [
    "X_train,X_test,Y_train,Y_test=train_test_split(X,Y,test_size=0.2,random_state=67)"
   ]
  },
  {
   "cell_type": "code",
   "execution_count": 22,
   "id": "c6ef3d64",
   "metadata": {
    "execution": {
     "iopub.execute_input": "2022-01-29T15:43:59.456525Z",
     "iopub.status.busy": "2022-01-29T15:43:59.455488Z",
     "iopub.status.idle": "2022-01-29T15:43:59.460561Z",
     "shell.execute_reply": "2022-01-29T15:43:59.461189Z",
     "shell.execute_reply.started": "2021-10-29T14:19:19.695884Z"
    },
    "papermill": {
     "duration": 0.045444,
     "end_time": "2022-01-29T15:43:59.461391",
     "exception": false,
     "start_time": "2022-01-29T15:43:59.415947",
     "status": "completed"
    },
    "tags": []
   },
   "outputs": [],
   "source": [
    "regress=LinearRegression()"
   ]
  },
  {
   "cell_type": "code",
   "execution_count": 23,
   "id": "2522c20d",
   "metadata": {
    "execution": {
     "iopub.execute_input": "2022-01-29T15:43:59.541126Z",
     "iopub.status.busy": "2022-01-29T15:43:59.539883Z",
     "iopub.status.idle": "2022-01-29T15:43:59.587740Z",
     "shell.execute_reply": "2022-01-29T15:43:59.588699Z",
     "shell.execute_reply.started": "2021-10-29T14:19:19.703139Z"
    },
    "papermill": {
     "duration": 0.091837,
     "end_time": "2022-01-29T15:43:59.589009",
     "exception": false,
     "start_time": "2022-01-29T15:43:59.497172",
     "status": "completed"
    },
    "tags": []
   },
   "outputs": [
    {
     "data": {
      "text/plain": [
       "LinearRegression()"
      ]
     },
     "execution_count": 23,
     "metadata": {},
     "output_type": "execute_result"
    }
   ],
   "source": [
    "regress.fit(X_train,Y_train)"
   ]
  },
  {
   "cell_type": "code",
   "execution_count": 24,
   "id": "4af348de",
   "metadata": {
    "execution": {
     "iopub.execute_input": "2022-01-29T15:43:59.716245Z",
     "iopub.status.busy": "2022-01-29T15:43:59.715525Z",
     "iopub.status.idle": "2022-01-29T15:43:59.723573Z",
     "shell.execute_reply": "2022-01-29T15:43:59.724436Z",
     "shell.execute_reply.started": "2021-10-29T14:19:19.759822Z"
    },
    "papermill": {
     "duration": 0.068969,
     "end_time": "2022-01-29T15:43:59.724767",
     "exception": false,
     "start_time": "2022-01-29T15:43:59.655798",
     "status": "completed"
    },
    "tags": []
   },
   "outputs": [],
   "source": [
    "Y_pred=regress.predict(X_test)"
   ]
  },
  {
   "cell_type": "code",
   "execution_count": 25,
   "id": "634ed83d",
   "metadata": {
    "execution": {
     "iopub.execute_input": "2022-01-29T15:43:59.854161Z",
     "iopub.status.busy": "2022-01-29T15:43:59.853472Z",
     "iopub.status.idle": "2022-01-29T15:43:59.858273Z",
     "shell.execute_reply": "2022-01-29T15:43:59.857773Z",
     "shell.execute_reply.started": "2021-10-29T14:19:19.771732Z"
    },
    "papermill": {
     "duration": 0.067916,
     "end_time": "2022-01-29T15:43:59.858417",
     "exception": false,
     "start_time": "2022-01-29T15:43:59.790501",
     "status": "completed"
    },
    "tags": []
   },
   "outputs": [
    {
     "name": "stdout",
     "output_type": "stream",
     "text": [
      "0.8842921051136352\n"
     ]
    }
   ],
   "source": [
    "print(r2_score(Y_pred,Y_test))"
   ]
  },
  {
   "cell_type": "code",
   "execution_count": 26,
   "id": "a049efda",
   "metadata": {
    "execution": {
     "iopub.execute_input": "2022-01-29T15:43:59.935838Z",
     "iopub.status.busy": "2022-01-29T15:43:59.935118Z",
     "iopub.status.idle": "2022-01-29T15:44:00.891754Z",
     "shell.execute_reply": "2022-01-29T15:44:00.892601Z",
     "shell.execute_reply.started": "2021-10-29T14:19:19.782031Z"
    },
    "papermill": {
     "duration": 0.998373,
     "end_time": "2022-01-29T15:44:00.892960",
     "exception": false,
     "start_time": "2022-01-29T15:43:59.894587",
     "status": "completed"
    },
    "tags": []
   },
   "outputs": [
    {
     "name": "stdout",
     "output_type": "stream",
     "text": [
      "[0.76003471 0.80684401 0.80310756 0.92568901 0.92735646 0.9253678\n",
      " 0.92570547 0.92534609 0.92806263 0.92597662]\n"
     ]
    }
   ],
   "source": [
    "print(cross_val_score(regress,X,Y,cv=10))"
   ]
  },
  {
   "cell_type": "code",
   "execution_count": 27,
   "id": "212d4ad2",
   "metadata": {
    "execution": {
     "iopub.execute_input": "2022-01-29T15:44:01.048804Z",
     "iopub.status.busy": "2022-01-29T15:44:01.048049Z",
     "iopub.status.idle": "2022-01-29T15:44:02.056796Z",
     "shell.execute_reply": "2022-01-29T15:44:02.059283Z",
     "shell.execute_reply.started": "2021-10-29T14:19:20.272703Z"
    },
    "papermill": {
     "duration": 1.055605,
     "end_time": "2022-01-29T15:44:02.060240",
     "exception": false,
     "start_time": "2022-01-29T15:44:01.004635",
     "status": "completed"
    },
    "tags": []
   },
   "outputs": [
    {
     "name": "stdout",
     "output_type": "stream",
     "text": [
      "avg_score =  0.8853490368258807\n"
     ]
    }
   ],
   "source": [
    "scores = cross_val_score(regress,X,Y,cv=10)\n",
    "avg_score=np.mean(scores)\n",
    "print('avg_score = ',np.mean(scores))"
   ]
  },
  {
   "cell_type": "code",
   "execution_count": 28,
   "id": "7acf6445",
   "metadata": {
    "execution": {
     "iopub.execute_input": "2022-01-29T15:44:02.204858Z",
     "iopub.status.busy": "2022-01-29T15:44:02.204141Z",
     "iopub.status.idle": "2022-01-29T15:44:02.207330Z",
     "shell.execute_reply": "2022-01-29T15:44:02.206699Z",
     "shell.execute_reply.started": "2021-10-29T14:19:20.778456Z"
    },
    "papermill": {
     "duration": 0.045422,
     "end_time": "2022-01-29T15:44:02.207518",
     "exception": false,
     "start_time": "2022-01-29T15:44:02.162096",
     "status": "completed"
    },
    "tags": []
   },
   "outputs": [],
   "source": [
    "from sklearn.metrics import mean_squared_error"
   ]
  },
  {
   "cell_type": "code",
   "execution_count": 29,
   "id": "e0d9ee5d",
   "metadata": {
    "execution": {
     "iopub.execute_input": "2022-01-29T15:44:02.289483Z",
     "iopub.status.busy": "2022-01-29T15:44:02.288801Z",
     "iopub.status.idle": "2022-01-29T15:44:02.294489Z",
     "shell.execute_reply": "2022-01-29T15:44:02.293921Z",
     "shell.execute_reply.started": "2021-10-29T14:19:20.785579Z"
    },
    "papermill": {
     "duration": 0.049844,
     "end_time": "2022-01-29T15:44:02.294644",
     "exception": false,
     "start_time": "2022-01-29T15:44:02.244800",
     "status": "completed"
    },
    "tags": []
   },
   "outputs": [
    {
     "name": "stdout",
     "output_type": "stream",
     "text": [
      "sqrt_mse =  0.2647499808395631\n"
     ]
    }
   ],
   "source": [
    "print('sqrt_mse = ',np.sqrt(mean_squared_error(Y_test,Y_pred)))"
   ]
  },
  {
   "cell_type": "code",
   "execution_count": 30,
   "id": "741fb9d5",
   "metadata": {
    "execution": {
     "iopub.execute_input": "2022-01-29T15:44:02.377654Z",
     "iopub.status.busy": "2022-01-29T15:44:02.376996Z",
     "iopub.status.idle": "2022-01-29T15:44:02.379507Z",
     "shell.execute_reply": "2022-01-29T15:44:02.380002Z",
     "shell.execute_reply.started": "2021-10-29T14:19:52.594219Z"
    },
    "papermill": {
     "duration": 0.046334,
     "end_time": "2022-01-29T15:44:02.380198",
     "exception": false,
     "start_time": "2022-01-29T15:44:02.333864",
     "status": "completed"
    },
    "tags": []
   },
   "outputs": [
    {
     "data": {
      "text/plain": [
       "array([10.86147694, 10.86147694, 10.98476943, ..., 10.60348095,\n",
       "        9.34698313, 10.86147694])"
      ]
     },
     "execution_count": 30,
     "metadata": {},
     "output_type": "execute_result"
    }
   ],
   "source": [
    "Y_pred"
   ]
  },
  {
   "cell_type": "code",
   "execution_count": 31,
   "id": "6ef171a4",
   "metadata": {
    "execution": {
     "iopub.execute_input": "2022-01-29T15:44:02.460383Z",
     "iopub.status.busy": "2022-01-29T15:44:02.459731Z",
     "iopub.status.idle": "2022-01-29T15:44:02.463457Z",
     "shell.execute_reply": "2022-01-29T15:44:02.463954Z",
     "shell.execute_reply.started": "2021-10-29T14:20:50.613665Z"
    },
    "papermill": {
     "duration": 0.046258,
     "end_time": "2022-01-29T15:44:02.464157",
     "exception": false,
     "start_time": "2022-01-29T15:44:02.417899",
     "status": "completed"
    },
    "tags": []
   },
   "outputs": [],
   "source": [
    "Y_pred_1=np.exp(Y_pred)"
   ]
  },
  {
   "cell_type": "code",
   "execution_count": 32,
   "id": "5596a40a",
   "metadata": {
    "execution": {
     "iopub.execute_input": "2022-01-29T15:44:02.545690Z",
     "iopub.status.busy": "2022-01-29T15:44:02.545011Z",
     "iopub.status.idle": "2022-01-29T15:44:02.550214Z",
     "shell.execute_reply": "2022-01-29T15:44:02.550826Z",
     "shell.execute_reply.started": "2021-10-29T14:21:00.250796Z"
    },
    "papermill": {
     "duration": 0.047923,
     "end_time": "2022-01-29T15:44:02.551020",
     "exception": false,
     "start_time": "2022-01-29T15:44:02.503097",
     "status": "completed"
    },
    "tags": []
   },
   "outputs": [
    {
     "data": {
      "text/plain": [
       "array([52129.01263134, 52129.01263134, 58969.13363989, ...,\n",
       "       40274.78824806, 11464.18525779, 52129.01263134])"
      ]
     },
     "execution_count": 32,
     "metadata": {},
     "output_type": "execute_result"
    }
   ],
   "source": [
    "Y_pred_1"
   ]
  }
 ],
 "metadata": {
  "kernelspec": {
   "display_name": "Python 3",
   "language": "python",
   "name": "python3"
  },
  "language_info": {
   "codemirror_mode": {
    "name": "ipython",
    "version": 3
   },
   "file_extension": ".py",
   "mimetype": "text/x-python",
   "name": "python",
   "nbconvert_exporter": "python",
   "pygments_lexer": "ipython3",
   "version": "3.7.12"
  },
  "papermill": {
   "default_parameters": {},
   "duration": 18.659406,
   "end_time": "2022-01-29T15:44:03.604639",
   "environment_variables": {},
   "exception": null,
   "input_path": "__notebook__.ipynb",
   "output_path": "__notebook__.ipynb",
   "parameters": {},
   "start_time": "2022-01-29T15:43:44.945233",
   "version": "2.3.3"
  }
 },
 "nbformat": 4,
 "nbformat_minor": 5
}
